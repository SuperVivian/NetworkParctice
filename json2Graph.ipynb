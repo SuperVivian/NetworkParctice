{
 "cells": [
  {
   "cell_type": "code",
   "execution_count": 1,
   "metadata": {},
   "outputs": [],
   "source": [
    "import json\n",
    "\n",
    "def resolveJson(path):\n",
    "    file = open(path, \"rb\")\n",
    "    fileJson = json.load(file)\n",
    "    laneNodeList = fileJson[\"laneNodeList\"]\n",
    "    edgeList = fileJson[\"edgeList\"]\n",
    "    return (laneNodeList, edgeList)\n",
    "\n",
    "path = r\"F:/UnityProjects/MapManager/OpenDriveMaps/OutputGraph/lane.json\"\n",
    "laneNodeList, edgeList = resolveJson(path)"
   ]
  },
  {
   "cell_type": "code",
   "execution_count": 2,
   "metadata": {},
   "outputs": [
    {
     "name": "stdout",
     "output_type": "stream",
     "text": [
      "[{'roadId': '0', 'id': '1', 'startPos': {'x': -27.39508628845215, 'y': 0.0, 'z': 8.80367374420166}, 'endPos': {'x': -3.9835546016693115, 'y': 0.0, 'z': 9.729329109191895}, 'width': 3.5, 'type': 1}, {'roadId': '0', 'id': '2', 'startPos': {'x': -27.533363342285156, 'y': 0.0, 'z': 12.300941467285156}, 'endPos': {'x': -4.121830940246582, 'y': 0.0, 'z': 13.22659683227539}, 'width': 3.5, 'type': 1}, {'roadId': '0', 'id': '-1', 'startPos': {'x': -27.256811141967773, 'y': 0.0, 'z': 5.306406497955322}, 'endPos': {'x': -3.845278024673462, 'y': 0.0, 'z': 6.232061862945557}, 'width': 3.5, 'type': 1}, {'roadId': '0', 'id': '-2', 'startPos': {'x': -27.118534088134766, 'y': 0.0, 'z': 1.8091392517089844}, 'endPos': {'x': -3.7070016860961914, 'y': 0.0, 'z': 2.7347946166992188}, 'width': 3.5, 'type': 1}, {'roadId': '1', 'id': '1', 'startPos': {'x': 16.537551879882812, 'y': 0.0, 'z': 11.13176441192627}, 'endPos': {'x': 38.1729621887207, 'y': 0.0, 'z': 13.048474311828613}, 'width': 3.5, 'type': 1}, {'roadId': '1', 'id': '2', 'startPos': {'x': 16.22869300842285, 'y': 0.0, 'z': 14.618110656738281}, 'endPos': {'x': 37.86410140991211, 'y': 0.0, 'z': 16.534820556640625}, 'width': 3.5, 'type': 1}, {'roadId': '1', 'id': '-1', 'startPos': {'x': 16.846412658691406, 'y': 0.0, 'z': 7.645419120788574}, 'endPos': {'x': 38.4818229675293, 'y': 0.0, 'z': 9.562129020690918}, 'width': 3.5, 'type': 1}, {'roadId': '1', 'id': '-2', 'startPos': {'x': 17.155271530151367, 'y': 0.0, 'z': 4.159073352813721}, 'endPos': {'x': 38.79068374633789, 'y': 0.0, 'z': 6.0757832527160645}, 'width': 3.5, 'type': 1}, {'roadId': '2', 'id': '1', 'startPos': {'x': 3.6102824211120605, 'y': 0.0, 'z': 16.862152099609375}, 'endPos': {'x': 2.6152238845825195, 'y': 0.0, 'z': 48.913063049316406}, 'width': 3.5, 'type': 1}, {'roadId': '2', 'id': '2', 'startPos': {'x': 0.1119680404663086, 'y': 0.0, 'z': 16.753541946411133}, 'endPos': {'x': -0.8830904960632324, 'y': 0.0, 'z': 48.8044548034668}, 'width': 3.5, 'type': 1}, {'roadId': '2', 'id': '-1', 'startPos': {'x': 7.108597278594971, 'y': 0.0, 'z': 16.970760345458984}, 'endPos': {'x': 6.11353874206543, 'y': 0.0, 'z': 49.02167510986328}, 'width': 3.5, 'type': 1}, {'roadId': '2', 'id': '-2', 'startPos': {'x': 10.606911659240723, 'y': 0.0, 'z': 17.079370498657227}, 'endPos': {'x': 9.611852645874023, 'y': 0.0, 'z': 49.13028335571289}, 'width': 3.5, 'type': 1}]\n"
     ]
    }
   ],
   "source": [
    "print(laneNodeList)"
   ]
  },
  {
   "cell_type": "code",
   "execution_count": 3,
   "metadata": {},
   "outputs": [
    {
     "name": "stdout",
     "output_type": "stream",
     "text": [
      "[]\n"
     ]
    }
   ],
   "source": [
    "print(edgeList)"
   ]
  },
  {
   "cell_type": "code",
   "execution_count": 4,
   "metadata": {},
   "outputs": [],
   "source": [
    "import networkx as nx\n",
    "G = nx.Graph()#创建一个空图"
   ]
  },
  {
   "cell_type": "code",
   "execution_count": 16,
   "metadata": {},
   "outputs": [],
   "source": [
    "G.clear()"
   ]
  },
  {
   "cell_type": "code",
   "execution_count": 7,
   "metadata": {},
   "outputs": [
    {
     "name": "stdout",
     "output_type": "stream",
     "text": [
      "range(0, 12)\n"
     ]
    }
   ],
   "source": [
    "#设置节点列表\n",
    "lanes = range(len(laneNodeList))\n",
    "print(lanes)"
   ]
  },
  {
   "cell_type": "code",
   "execution_count": 8,
   "metadata": {},
   "outputs": [],
   "source": [
    "#向图添加节点\n",
    "G.add_nodes_from(lanes)"
   ]
  },
  {
   "cell_type": "code",
   "execution_count": 9,
   "metadata": {
    "scrolled": true
   },
   "outputs": [
    {
     "name": "stdout",
     "output_type": "stream",
     "text": [
      "{'startPosX': -27.39508628845215, 'startPosY': 0.0, 'startPosZ': 8.80367374420166, 'endPosX': -3.9835546016693115, 'endPosY': 0.0, 'endPosZ': 9.729329109191895, 'roadId': '0', 'id': '1', 'width': 3.5, 'type': 1}\n"
     ]
    }
   ],
   "source": [
    "#向节点添加属性\n",
    "for i,rn in enumerate(laneNodeList):\n",
    "    #节点属性\n",
    "    G.nodes[i]['startPosX']=rn[\"startPos\"][\"x\"]\n",
    "    G.nodes[i]['startPosY']=rn[\"startPos\"][\"y\"]\n",
    "    G.nodes[i]['startPosZ']=rn[\"startPos\"][\"z\"]\n",
    "    G.nodes[i]['endPosX']=rn[\"endPos\"][\"x\"]\n",
    "    G.nodes[i]['endPosY']=rn[\"endPos\"][\"y\"]\n",
    "    G.nodes[i]['endPosZ']=rn[\"endPos\"][\"z\"]\n",
    "    G.nodes[i]['roadId']=rn[\"roadId\"]\n",
    "    G.nodes[i]['id']=rn[\"id\"]\n",
    "    G.nodes[i]['width']=rn[\"width\"]\n",
    "    G.nodes[i]['type']=rn[\"type\"]\n",
    "\n",
    "# j = len(roadNodeList)\n",
    "# for x,jn in enumerate(junctionNodeList):\n",
    "#     G.nodes[j]['junctionType']=jn[\"junctionType\"]\n",
    "#     j+=1\n",
    "print(G.nodes[0])"
   ]
  },
  {
   "cell_type": "code",
   "execution_count": 8,
   "metadata": {},
   "outputs": [
    {
     "data": {
      "text/plain": [
       "EdgeDataView([(0, 10, {}), (1, 10, {}), (1, 12, {}), (2, 10, {}), (2, 11, {}), (3, 11, {}), (4, 11, {}), (5, 11, {}), (6, 10, {}), (7, 12, {}), (8, 12, {}), (9, 12, {})])"
      ]
     },
     "execution_count": 8,
     "metadata": {},
     "output_type": "execute_result"
    }
   ],
   "source": [
    "for i,e in enumerate(edgeList):\n",
    "    rnI = e[\"rnIndex\"]\n",
    "    jnI = e[\"jnIndex\"]\n",
    "    G.add_edge(rnI,jnI)\n",
    "G.edges.data()"
   ]
  },
  {
   "cell_type": "code",
   "execution_count": 10,
   "metadata": {},
   "outputs": [],
   "source": [
    "import matplotlib.pyplot as plt\n",
    "%matplotlib inline"
   ]
  },
  {
   "cell_type": "code",
   "execution_count": 11,
   "metadata": {},
   "outputs": [
    {
     "data": {
      "image/png": "[encoded data removed]",
      "text/plain": [
       "<Figure size 432x288 with 1 Axes>"
      ]
     },
     "metadata": {},
     "output_type": "display_data"
    }
   ],
   "source": [
    "nx.draw(G,with_labels=True,font_weight='bold')"
   ]
  },
  {
   "cell_type": "code",
   "execution_count": 14,
   "metadata": {},
   "outputs": [],
   "source": [
    "pos = dict()\n",
    "pos.update( (n, (1, i)) for i, n in enumerate(roads) )\n",
    "pos.update( (n, (2, i+0.5)) for i, n in enumerate(junctions) )"
   ]
  },
  {
   "cell_type": "code",
   "execution_count": 19,
   "metadata": {},
   "outputs": [
    {
     "data": {
      "text/plain": [
       "<matplotlib.collections.PathCollection at 0x21aae46ada0>"
      ]
     },
     "execution_count": 19,
     "metadata": {},
     "output_type": "execute_result"
    },
    {
     "data": {
      "image/png": "[encoded data removed]",
      "text/plain": [
       "<Figure size 432x288 with 1 Axes>"
      ]
     },
     "metadata": {
      "needs_background": "light"
     },
     "output_type": "display_data"
    }
   ],
   "source": [
    "nx.draw_networkx_nodes(G,pos,nodelist=roads, node_color='slategray',node_size = 350, with_labels=False)\n",
    "nx.draw_networkx_nodes(G,pos,nodelist=junctions, node_color='steelblue',node_size = 350, with_labels=False)"
   ]
  },
  {
   "cell_type": "code",
   "execution_count": 22,
   "metadata": {},
   "outputs": [],
   "source": [
    "nx.write_gpickle(G,'inter3.gpickle')"
   ]
  },
  {
   "cell_type": "code",
   "execution_count": 13,
   "metadata": {},
   "outputs": [
    {
     "data": {
      "image/png": "[encoded data removed]",
      "text/plain": [
       "<Figure size 432x288 with 1 Axes>"
      ]
     },
     "metadata": {},
     "output_type": "display_data"
    }
   ],
   "source": [
    "G2 = nx.read_gpickle('t_intersection.gpickle')\n",
    "nx.draw(G2,with_labels=True,font_weight='bold')"
   ]
  }
 ],
 "metadata": {
  "kernelspec": {
   "display_name": "Python 3",
   "language": "python",
   "name": "python3"
  },
  "language_info": {
   "codemirror_mode": {
    "name": "ipython",
    "version": 3
   },
   "file_extension": ".py",
   "mimetype": "text/x-python",
   "name": "python",
   "nbconvert_exporter": "python",
   "pygments_lexer": "ipython3",
   "version": "3.7.0"
  }
 },
 "nbformat": 4,
 "nbformat_minor": 2
}
