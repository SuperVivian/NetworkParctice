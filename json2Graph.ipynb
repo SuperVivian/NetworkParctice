{
 "cells": [
  {
   "cell_type": "code",
   "execution_count": 1,
   "metadata": {},
   "outputs": [],
   "source": [
    "import json\n",
    "\n",
    "def resolveJson(path):\n",
    "    file = open(path, \"rb\")\n",
    "    fileJson = json.load(file)\n",
    "    roadNodeList = fileJson[\"roadNodeList\"]\n",
    "    junctionNodeList = fileJson[\"junctionNodeList\"]\n",
    "    edgeList = fileJson[\"edgeList\"]\n",
    "    return (roadNodeList, junctionNodeList, edgeList)\n",
    "\n",
    "path = r\"F:/UnityProjects/MapManager/OpenDriveMaps/OutputGraph/inter3.json\"\n",
    "roadNodeList, junctionNodeList, edgeList = resolveJson(path)"
   ]
  },
  {
   "cell_type": "code",
   "execution_count": 2,
   "metadata": {},
   "outputs": [
    {
     "name": "stdout",
     "output_type": "stream",
     "text": [
      "[{'id': '0', 'startPos': {'x': -27.936172485351562, 'y': 0.0, 'z': -13.004464149475098}, 'endPos': {'x': -4.805009841918945, 'y': 0.0, 'z': -9.370169639587402}, 'leftLaneCnt': 2.0, 'rightLaneCnt': 2.0}, {'id': '1', 'startPos': {'x': 21.032175064086914, 'y': 0.0, 'z': -5.514986991882324}, 'endPos': {'x': 40.23626708984375, 'y': 0.0, 'z': -3.185275077819824}, 'leftLaneCnt': 2.0, 'rightLaneCnt': 2.0}, {'id': '2', 'startPos': {'x': 6.385845184326172, 'y': -3.814697265625e-06, 'z': 4.436821937561035}, 'endPos': {'x': -16.353391647338867, 'y': 0.0, 'z': 47.81688690185547}, 'leftLaneCnt': 2.0, 'rightLaneCnt': 2.0}, {'id': '3', 'startPos': {'x': -87.36721801757812, 'y': 0.0, 'z': 70.26502227783203}, 'endPos': {'x': -49.11911392211914, 'y': 0.0, 'z': 75.74848175048828}, 'leftLaneCnt': 3.0, 'rightLaneCnt': 3.0}, {'id': '4', 'startPos': {'x': -10.451847076416016, 'y': 0.0, 'z': 83.02132415771484}, 'endPos': {'x': 38.41130065917969, 'y': 0.0, 'z': 86.14994812011719}, 'leftLaneCnt': 3.0, 'rightLaneCnt': 3.0}, {'id': '5', 'startPos': {'x': -30.909862518310547, 'y': 0.0, 'z': 102.6769790649414}, 'endPos': {'x': -32.79486846923828, 'y': 0.0, 'z': 143.39285278320312}, 'leftLaneCnt': 3.0, 'rightLaneCnt': 3.0}, {'id': '6', 'startPos': {'x': 16.053203582763672, 'y': 0.0, 'z': -30.488805770874023}, 'endPos': {'x': 24.132057189941406, 'y': 0.0, 'z': -64.5172119140625}, 'leftLaneCnt': 3.0, 'rightLaneCnt': 3.0}, {'id': '7', 'startPos': {'x': 69.234619140625, 'y': 0.0, 'z': 2.646686553955078}, 'endPos': {'x': 110.98182678222656, 'y': 0.0, 'z': 10.106559753417969}, 'leftLaneCnt': 3.0, 'rightLaneCnt': 3.0}, {'id': '8', 'startPos': {'x': 52.291046142578125, 'y': 0.0, 'z': 22.451885223388672}, 'endPos': {'x': 47.155479431152344, 'y': 0.0, 'z': 51.81336212158203}, 'leftLaneCnt': 3.0, 'rightLaneCnt': 3.0}, {'id': '9', 'startPos': {'x': 57.05398178100586, 'y': 0.0, 'z': -26.53904151916504}, 'endPos': {'x': 63.64137268066406, 'y': 0.0, 'z': -60.99817657470703}, 'leftLaneCnt': 3.0, 'rightLaneCnt': 3.0}]\n"
     ]
    }
   ],
   "source": [
    "print(roadNodeList)"
   ]
  },
  {
   "cell_type": "code",
   "execution_count": 3,
   "metadata": {},
   "outputs": [
    {
     "name": "stdout",
     "output_type": "stream",
     "text": [
      "[{'rnIndex': 0, 'jnIndex': 10}, {'rnIndex': 1, 'jnIndex': 10}, {'rnIndex': 2, 'jnIndex': 10}, {'rnIndex': 6, 'jnIndex': 10}, {'rnIndex': 2, 'jnIndex': 11}, {'rnIndex': 3, 'jnIndex': 11}, {'rnIndex': 4, 'jnIndex': 11}, {'rnIndex': 5, 'jnIndex': 11}, {'rnIndex': 7, 'jnIndex': 12}, {'rnIndex': 8, 'jnIndex': 12}, {'rnIndex': 9, 'jnIndex': 12}, {'rnIndex': 1, 'jnIndex': 12}]\n"
     ]
    }
   ],
   "source": [
    "print(edgeList)"
   ]
  },
  {
   "cell_type": "code",
   "execution_count": 4,
   "metadata": {},
   "outputs": [],
   "source": [
    "import networkx as nx\n",
    "G = nx.Graph()#创建一个空图"
   ]
  },
  {
   "cell_type": "code",
   "execution_count": 16,
   "metadata": {},
   "outputs": [],
   "source": [
    "G.clear()"
   ]
  },
  {
   "cell_type": "code",
   "execution_count": 5,
   "metadata": {},
   "outputs": [
    {
     "name": "stdout",
     "output_type": "stream",
     "text": [
      "range(0, 10)\n",
      "range(10, 13)\n"
     ]
    }
   ],
   "source": [
    "#设置2种节点列表\n",
    "roads = range(len(roadNodeList))\n",
    "junctions = range(len(roadNodeList),len(roadNodeList)+len(junctionNodeList))\n",
    "print(roads)\n",
    "print(junctions)"
   ]
  },
  {
   "cell_type": "code",
   "execution_count": 6,
   "metadata": {},
   "outputs": [],
   "source": [
    "#向图添加节点\n",
    "G.add_nodes_from(roads, bipartite='road')\n",
    "G.add_nodes_from(junctions, bipartite='junction')"
   ]
  },
  {
   "cell_type": "code",
   "execution_count": 7,
   "metadata": {
    "scrolled": true
   },
   "outputs": [
    {
     "name": "stdout",
     "output_type": "stream",
     "text": [
      "{'bipartite': 'road', 'startPosX': -27.936172485351562, 'startPosY': 0.0, 'startPosZ': -13.004464149475098, 'endPosX': -4.805009841918945, 'endPosY': 0.0, 'endPosZ': -9.370169639587402, 'leftLaneCnt': 2.0, 'rightLaneCnt': 2.0}\n",
      "{'bipartite': 'junction', 'junctionType': 0}\n"
     ]
    }
   ],
   "source": [
    "#向节点添加属性\n",
    "for i,rn in enumerate(roadNodeList):\n",
    "    #节点属性\n",
    "    G.nodes[i]['startPosX']=rn[\"startPos\"][\"x\"]\n",
    "    G.nodes[i]['startPosY']=rn[\"startPos\"][\"y\"]\n",
    "    G.nodes[i]['startPosZ']=rn[\"startPos\"][\"z\"]\n",
    "    G.nodes[i]['endPosX']=rn[\"endPos\"][\"x\"]\n",
    "    G.nodes[i]['endPosY']=rn[\"endPos\"][\"y\"]\n",
    "    G.nodes[i]['endPosZ']=rn[\"endPos\"][\"z\"]\n",
    "    G.nodes[i]['leftLaneCnt']=rn[\"leftLaneCnt\"]\n",
    "    G.nodes[i]['rightLaneCnt']=rn[\"rightLaneCnt\"]\n",
    "\n",
    "j = len(roadNodeList)\n",
    "for x,jn in enumerate(junctionNodeList):\n",
    "    G.nodes[j]['junctionType']=jn[\"junctionType\"]\n",
    "    j+=1\n",
    "print(G.nodes[0])\n",
    "print(G.nodes[len(roadNodeList)])"
   ]
  },
  {
   "cell_type": "code",
   "execution_count": 8,
   "metadata": {},
   "outputs": [
    {
     "data": {
      "text/plain": [
       "EdgeDataView([(0, 10, {}), (1, 10, {}), (1, 12, {}), (2, 10, {}), (2, 11, {}), (3, 11, {}), (4, 11, {}), (5, 11, {}), (6, 10, {}), (7, 12, {}), (8, 12, {}), (9, 12, {})])"
      ]
     },
     "execution_count": 8,
     "metadata": {},
     "output_type": "execute_result"
    }
   ],
   "source": [
    "for i,e in enumerate(edgeList):\n",
    "    rnI = e[\"rnIndex\"]\n",
    "    jnI = e[\"jnIndex\"]\n",
    "    G.add_edge(rnI,jnI)\n",
    "G.edges.data()"
   ]
  },
  {
   "cell_type": "code",
   "execution_count": 9,
   "metadata": {},
   "outputs": [],
   "source": [
    "import matplotlib.pyplot as plt\n",
    "%matplotlib inline"
   ]
  },
  {
   "cell_type": "code",
   "execution_count": 10,
   "metadata": {},
   "outputs": [
    {
     "data": {
      "image/png": "[encoded data removed]",
      "text/plain": [
       "<Figure size 432x288 with 1 Axes>"
      ]
     },
     "metadata": {},
     "output_type": "display_data"
    }
   ],
   "source": [
    "nx.draw(G,with_labels=True,font_weight='bold')"
   ]
  },
  {
   "cell_type": "code",
   "execution_count": 14,
   "metadata": {},
   "outputs": [],
   "source": [
    "pos = dict()\n",
    "pos.update( (n, (1, i)) for i, n in enumerate(roads) )\n",
    "pos.update( (n, (2, i+0.5)) for i, n in enumerate(junctions) )"
   ]
  },
  {
   "cell_type": "code",
   "execution_count": 19,
   "metadata": {},
   "outputs": [
    {
     "data": {
      "text/plain": [
       "<matplotlib.collections.PathCollection at 0x21aae46ada0>"
      ]
     },
     "execution_count": 19,
     "metadata": {},
     "output_type": "execute_result"
    },
    {
     "data": {
      "image/png": "[encoded data removed]",
      "text/plain": [
       "<Figure size 432x288 with 1 Axes>"
      ]
     },
     "metadata": {
      "needs_background": "light"
     },
     "output_type": "display_data"
    }
   ],
   "source": [
    "nx.draw_networkx_nodes(G,pos,nodelist=roads, node_color='slategray',node_size = 350, with_labels=False)\n",
    "nx.draw_networkx_nodes(G,pos,nodelist=junctions, node_color='steelblue',node_size = 350, with_labels=False)"
   ]
  },
  {
   "cell_type": "code",
   "execution_count": 22,
   "metadata": {},
   "outputs": [],
   "source": [
    "nx.write_gpickle(G,'inter3.gpickle')"
   ]
  },
  {
   "cell_type": "code",
   "execution_count": 13,
   "metadata": {},
   "outputs": [
    {
     "data": {
      "image/png": "[encoded data removed]",
      "text/plain": [
       "<Figure size 432x288 with 1 Axes>"
      ]
     },
     "metadata": {},
     "output_type": "display_data"
    }
   ],
   "source": [
    "G2 = nx.read_gpickle('t_intersection.gpickle')\n",
    "nx.draw(G2,with_labels=True,font_weight='bold')"
   ]
  }
 ],
 "metadata": {
  "kernelspec": {
   "display_name": "Python 3",
   "language": "python",
   "name": "python3"
  },
  "language_info": {
   "codemirror_mode": {
    "name": "ipython",
    "version": 3
   },
   "file_extension": ".py",
   "mimetype": "text/x-python",
   "name": "python",
   "nbconvert_exporter": "python",
   "pygments_lexer": "ipython3",
   "version": "3.7.0"
  }
 },
 "nbformat": 4,
 "nbformat_minor": 2
}
